{
  "nbformat": 4,
  "nbformat_minor": 0,
  "metadata": {
    "colab": {
      "provenance": [],
      "authorship_tag": "ABX9TyOdueDsLogXSbBEssZ0+GcX",
      "include_colab_link": true
    },
    "kernelspec": {
      "name": "python3",
      "display_name": "Python 3"
    },
    "language_info": {
      "name": "python"
    }
  },
  "cells": [
    {
      "cell_type": "markdown",
      "metadata": {
        "id": "view-in-github",
        "colab_type": "text"
      },
      "source": [
        "<a href=\"https://colab.research.google.com/github/mrbannah/Conditional-Statement/blob/main/Conditional_Statement.ipynb\" target=\"_parent\"><img src=\"https://colab.research.google.com/assets/colab-badge.svg\" alt=\"Open In Colab\"/></a>"
      ]
    },
    {
      "cell_type": "code",
      "execution_count": 18,
      "metadata": {
        "colab": {
          "base_uri": "https://localhost:8080/"
        },
        "id": "FQwWVUWosSnq",
        "outputId": "0cc8c51c-11f0-4a16-ff65-7c941539a346"
      },
      "outputs": [
        {
          "output_type": "stream",
          "name": "stdout",
          "text": [
            "The Largest Number is = 33\n"
          ]
        }
      ],
      "source": [
        "'''\n",
        "1. Largest among Three Numbers: Write a Python program that takes three numbers as input and prints out the largest among them.\n",
        "'''\n",
        "\n",
        "Number1 = 3\n",
        "Number2 = 23\n",
        "Number3 = 33\n",
        "\n",
        "if Number1 > Number2 and Number1 > Number3:\n",
        "  print ('The Largest number is = ', Number1)\n",
        "elif Number2 > Number3 and Number2 > Number1:\n",
        "  print ('The largest number is = ', Number2)\n",
        "else:\n",
        "  print ('The Largest Number is =', Number3)"
      ]
    },
    {
      "cell_type": "code",
      "source": [
        "'''2. Quadrant Identifier: Write a Python program that takes the coordinates (x, y) of\n",
        "a point as input and prints out which quadrant it belongs to (1st, 2nd, 3rd, or 4th).'''\n",
        "\n",
        "x = -9\n",
        "y = 3\n",
        "\n",
        "if x > 0:\n",
        "  if y > 0:\n",
        "    print ('1st quadrant')\n",
        "  else:\n",
        "    print ('4th quadrant')\n",
        "else:\n",
        "  if y > 0:\n",
        "    print ('2nd quadrant')\n",
        "  else:\n",
        "    print ('3rd quadrant')"
      ],
      "metadata": {
        "colab": {
          "base_uri": "https://localhost:8080/"
        },
        "id": "pZrdFNU7tY7u",
        "outputId": "1a50d108-aea3-4c5c-b1b2-14dd8bfd2881"
      },
      "execution_count": 24,
      "outputs": [
        {
          "output_type": "stream",
          "name": "stdout",
          "text": [
            "2nd quadrant\n"
          ]
        }
      ]
    },
    {
      "cell_type": "code",
      "source": [
        "'''\n",
        "BMI Calculator: Write a Python program that takes a person's height (in meters)\n",
        "and weight (in kilograms) as input and calculates their Body Mass Index (BMI).\n",
        "Print out their BMI and a message indicating whether they are underweight\n",
        "(<18.5), normal (18.5-24.9), overweight (25-29.9), or obese (>=30).\n",
        "'''\n",
        "\n",
        "highet_Feet = float(input(\"Please input your highet in feet \"))\n",
        "highet_Inch = float(input(\"Please input your highet in Inch \"))\n",
        "highet = ((highet_Feet*0.3048)+(highet_Inch*0.0254))\n",
        "weight = float(input(\"Please input your weight in KG \"))\n",
        "\n",
        "BMI = (weight/highet**2)\n",
        "\n",
        "if BMI < 18.5:\n",
        "  print('Your BMI is Underweight')\n",
        "elif BMI < 24.9:\n",
        "  print('Your BMI is Normal')\n",
        "elif BMI < 29.9:\n",
        "  print('Your BMI is Overweight')\n",
        "else:\n",
        "  print ('Your BMI is Obese')"
      ],
      "metadata": {
        "colab": {
          "base_uri": "https://localhost:8080/"
        },
        "id": "XfUTNA4469GN",
        "outputId": "627cedf2-64b4-4f15-d8d6-f63b1a5a5c7f"
      },
      "execution_count": 38,
      "outputs": [
        {
          "output_type": "stream",
          "name": "stdout",
          "text": [
            "Please input your highet in feet 6\n",
            "Please input your highet in Inch 7\n",
            "Please input your weight in KG 90\n",
            "Your BMI is Normal\n"
          ]
        }
      ]
    },
    {
      "cell_type": "code",
      "source": [
        "'''\n",
        "Temperature Converter: Write a Python program that takes a temperature input\n",
        "in Celsius and converts it to Fahrenheit if the temperature is above 0°C, or to\n",
        "Kelvin if the temperature is below 0°C.\n",
        "'''\n",
        "\n",
        "Temperature = float(input(\"Please input the temparature in Celsius \"))\n",
        "\n",
        "if Temperature > 0:\n",
        "  Temperature_in_Fahrenheit = (Temperature*32)\n",
        "  print (Temperature_in_Fahrenheit)\n",
        "else:\n",
        "  Temperature_in_Kelvin = (Temperature*273)\n",
        "  print (Temperature_in_Kelvin)"
      ],
      "metadata": {
        "colab": {
          "base_uri": "https://localhost:8080/"
        },
        "id": "cdq8MaXuIlhf",
        "outputId": "9fc4f116-d7da-4ccf-9e49-da4ec5721a01"
      },
      "execution_count": 40,
      "outputs": [
        {
          "output_type": "stream",
          "name": "stdout",
          "text": [
            "Please input the temparature in Celsius 34\n",
            "1088.0\n"
          ]
        }
      ]
    },
    {
      "cell_type": "code",
      "source": [],
      "metadata": {
        "id": "mvzZ3u0_OgU2"
      },
      "execution_count": null,
      "outputs": []
    }
  ]
}